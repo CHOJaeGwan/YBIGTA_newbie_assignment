{
 "cells": [
  {
   "cell_type": "markdown",
   "id": "82bac40c",
   "metadata": {},
   "source": [
    "# 1. Iris dataset"
   ]
  },
  {
   "cell_type": "markdown",
   "id": "3b1e3dee",
   "metadata": {},
   "source": [
    "### 1. Load dateset & check structure"
   ]
  },
  {
   "cell_type": "code",
   "execution_count": 2,
   "id": "507b8609",
   "metadata": {},
   "outputs": [],
   "source": [
    "import seaborn as sns\n",
    "iris = sns.load_dataset('iris')"
   ]
  },
  {
   "cell_type": "code",
   "execution_count": 3,
   "id": "120863a1",
   "metadata": {},
   "outputs": [
    {
     "data": {
      "application/vnd.microsoft.datawrangler.viewer.v0+json": {
       "columns": [
        {
         "name": "index",
         "rawType": "int64",
         "type": "integer"
        },
        {
         "name": "sepal_length",
         "rawType": "float64",
         "type": "float"
        },
        {
         "name": "sepal_width",
         "rawType": "float64",
         "type": "float"
        },
        {
         "name": "petal_length",
         "rawType": "float64",
         "type": "float"
        },
        {
         "name": "petal_width",
         "rawType": "float64",
         "type": "float"
        },
        {
         "name": "species",
         "rawType": "object",
         "type": "string"
        }
       ],
       "ref": "85d72e40-0060-4e46-a9dc-e58773af08d4",
       "rows": [
        [
         "0",
         "5.1",
         "3.5",
         "1.4",
         "0.2",
         "setosa"
        ],
        [
         "1",
         "4.9",
         "3.0",
         "1.4",
         "0.2",
         "setosa"
        ],
        [
         "2",
         "4.7",
         "3.2",
         "1.3",
         "0.2",
         "setosa"
        ],
        [
         "3",
         "4.6",
         "3.1",
         "1.5",
         "0.2",
         "setosa"
        ],
        [
         "4",
         "5.0",
         "3.6",
         "1.4",
         "0.2",
         "setosa"
        ]
       ],
       "shape": {
        "columns": 5,
        "rows": 5
       }
      },
      "text/html": [
       "<div>\n",
       "<style scoped>\n",
       "    .dataframe tbody tr th:only-of-type {\n",
       "        vertical-align: middle;\n",
       "    }\n",
       "\n",
       "    .dataframe tbody tr th {\n",
       "        vertical-align: top;\n",
       "    }\n",
       "\n",
       "    .dataframe thead th {\n",
       "        text-align: right;\n",
       "    }\n",
       "</style>\n",
       "<table border=\"1\" class=\"dataframe\">\n",
       "  <thead>\n",
       "    <tr style=\"text-align: right;\">\n",
       "      <th></th>\n",
       "      <th>sepal_length</th>\n",
       "      <th>sepal_width</th>\n",
       "      <th>petal_length</th>\n",
       "      <th>petal_width</th>\n",
       "      <th>species</th>\n",
       "    </tr>\n",
       "  </thead>\n",
       "  <tbody>\n",
       "    <tr>\n",
       "      <th>0</th>\n",
       "      <td>5.1</td>\n",
       "      <td>3.5</td>\n",
       "      <td>1.4</td>\n",
       "      <td>0.2</td>\n",
       "      <td>setosa</td>\n",
       "    </tr>\n",
       "    <tr>\n",
       "      <th>1</th>\n",
       "      <td>4.9</td>\n",
       "      <td>3.0</td>\n",
       "      <td>1.4</td>\n",
       "      <td>0.2</td>\n",
       "      <td>setosa</td>\n",
       "    </tr>\n",
       "    <tr>\n",
       "      <th>2</th>\n",
       "      <td>4.7</td>\n",
       "      <td>3.2</td>\n",
       "      <td>1.3</td>\n",
       "      <td>0.2</td>\n",
       "      <td>setosa</td>\n",
       "    </tr>\n",
       "    <tr>\n",
       "      <th>3</th>\n",
       "      <td>4.6</td>\n",
       "      <td>3.1</td>\n",
       "      <td>1.5</td>\n",
       "      <td>0.2</td>\n",
       "      <td>setosa</td>\n",
       "    </tr>\n",
       "    <tr>\n",
       "      <th>4</th>\n",
       "      <td>5.0</td>\n",
       "      <td>3.6</td>\n",
       "      <td>1.4</td>\n",
       "      <td>0.2</td>\n",
       "      <td>setosa</td>\n",
       "    </tr>\n",
       "  </tbody>\n",
       "</table>\n",
       "</div>"
      ],
      "text/plain": [
       "   sepal_length  sepal_width  petal_length  petal_width species\n",
       "0           5.1          3.5           1.4          0.2  setosa\n",
       "1           4.9          3.0           1.4          0.2  setosa\n",
       "2           4.7          3.2           1.3          0.2  setosa\n",
       "3           4.6          3.1           1.5          0.2  setosa\n",
       "4           5.0          3.6           1.4          0.2  setosa"
      ]
     },
     "execution_count": 3,
     "metadata": {},
     "output_type": "execute_result"
    }
   ],
   "source": [
    "iris.head()  "
   ]
  },
  {
   "cell_type": "code",
   "execution_count": 5,
   "id": "09b88935",
   "metadata": {},
   "outputs": [
    {
     "name": "stdout",
     "output_type": "stream",
     "text": [
      "<class 'pandas.core.frame.DataFrame'>\n",
      "RangeIndex: 150 entries, 0 to 149\n",
      "Data columns (total 5 columns):\n",
      " #   Column        Non-Null Count  Dtype  \n",
      "---  ------        --------------  -----  \n",
      " 0   sepal_length  150 non-null    float64\n",
      " 1   sepal_width   150 non-null    float64\n",
      " 2   petal_length  150 non-null    float64\n",
      " 3   petal_width   150 non-null    float64\n",
      " 4   species       150 non-null    object \n",
      "dtypes: float64(4), object(1)\n",
      "memory usage: 6.0+ KB\n"
     ]
    }
   ],
   "source": [
    "iris.info() "
   ]
  },
  {
   "cell_type": "code",
   "execution_count": 6,
   "id": "1a211148",
   "metadata": {},
   "outputs": [
    {
     "data": {
      "application/vnd.microsoft.datawrangler.viewer.v0+json": {
       "columns": [
        {
         "name": "index",
         "rawType": "object",
         "type": "string"
        },
        {
         "name": "sepal_length",
         "rawType": "float64",
         "type": "float"
        },
        {
         "name": "sepal_width",
         "rawType": "float64",
         "type": "float"
        },
        {
         "name": "petal_length",
         "rawType": "float64",
         "type": "float"
        },
        {
         "name": "petal_width",
         "rawType": "float64",
         "type": "float"
        }
       ],
       "ref": "19605583-8271-4c0f-a992-3d2698ee6593",
       "rows": [
        [
         "count",
         "150.0",
         "150.0",
         "150.0",
         "150.0"
        ],
        [
         "mean",
         "5.843333333333334",
         "3.0573333333333337",
         "3.7580000000000005",
         "1.1993333333333336"
        ],
        [
         "std",
         "0.828066127977863",
         "0.4358662849366982",
         "1.7652982332594662",
         "0.7622376689603465"
        ],
        [
         "min",
         "4.3",
         "2.0",
         "1.0",
         "0.1"
        ],
        [
         "25%",
         "5.1",
         "2.8",
         "1.6",
         "0.3"
        ],
        [
         "50%",
         "5.8",
         "3.0",
         "4.35",
         "1.3"
        ],
        [
         "75%",
         "6.4",
         "3.3",
         "5.1",
         "1.8"
        ],
        [
         "max",
         "7.9",
         "4.4",
         "6.9",
         "2.5"
        ]
       ],
       "shape": {
        "columns": 4,
        "rows": 8
       }
      },
      "text/html": [
       "<div>\n",
       "<style scoped>\n",
       "    .dataframe tbody tr th:only-of-type {\n",
       "        vertical-align: middle;\n",
       "    }\n",
       "\n",
       "    .dataframe tbody tr th {\n",
       "        vertical-align: top;\n",
       "    }\n",
       "\n",
       "    .dataframe thead th {\n",
       "        text-align: right;\n",
       "    }\n",
       "</style>\n",
       "<table border=\"1\" class=\"dataframe\">\n",
       "  <thead>\n",
       "    <tr style=\"text-align: right;\">\n",
       "      <th></th>\n",
       "      <th>sepal_length</th>\n",
       "      <th>sepal_width</th>\n",
       "      <th>petal_length</th>\n",
       "      <th>petal_width</th>\n",
       "    </tr>\n",
       "  </thead>\n",
       "  <tbody>\n",
       "    <tr>\n",
       "      <th>count</th>\n",
       "      <td>150.000000</td>\n",
       "      <td>150.000000</td>\n",
       "      <td>150.000000</td>\n",
       "      <td>150.000000</td>\n",
       "    </tr>\n",
       "    <tr>\n",
       "      <th>mean</th>\n",
       "      <td>5.843333</td>\n",
       "      <td>3.057333</td>\n",
       "      <td>3.758000</td>\n",
       "      <td>1.199333</td>\n",
       "    </tr>\n",
       "    <tr>\n",
       "      <th>std</th>\n",
       "      <td>0.828066</td>\n",
       "      <td>0.435866</td>\n",
       "      <td>1.765298</td>\n",
       "      <td>0.762238</td>\n",
       "    </tr>\n",
       "    <tr>\n",
       "      <th>min</th>\n",
       "      <td>4.300000</td>\n",
       "      <td>2.000000</td>\n",
       "      <td>1.000000</td>\n",
       "      <td>0.100000</td>\n",
       "    </tr>\n",
       "    <tr>\n",
       "      <th>25%</th>\n",
       "      <td>5.100000</td>\n",
       "      <td>2.800000</td>\n",
       "      <td>1.600000</td>\n",
       "      <td>0.300000</td>\n",
       "    </tr>\n",
       "    <tr>\n",
       "      <th>50%</th>\n",
       "      <td>5.800000</td>\n",
       "      <td>3.000000</td>\n",
       "      <td>4.350000</td>\n",
       "      <td>1.300000</td>\n",
       "    </tr>\n",
       "    <tr>\n",
       "      <th>75%</th>\n",
       "      <td>6.400000</td>\n",
       "      <td>3.300000</td>\n",
       "      <td>5.100000</td>\n",
       "      <td>1.800000</td>\n",
       "    </tr>\n",
       "    <tr>\n",
       "      <th>max</th>\n",
       "      <td>7.900000</td>\n",
       "      <td>4.400000</td>\n",
       "      <td>6.900000</td>\n",
       "      <td>2.500000</td>\n",
       "    </tr>\n",
       "  </tbody>\n",
       "</table>\n",
       "</div>"
      ],
      "text/plain": [
       "       sepal_length  sepal_width  petal_length  petal_width\n",
       "count    150.000000   150.000000    150.000000   150.000000\n",
       "mean       5.843333     3.057333      3.758000     1.199333\n",
       "std        0.828066     0.435866      1.765298     0.762238\n",
       "min        4.300000     2.000000      1.000000     0.100000\n",
       "25%        5.100000     2.800000      1.600000     0.300000\n",
       "50%        5.800000     3.000000      4.350000     1.300000\n",
       "75%        6.400000     3.300000      5.100000     1.800000\n",
       "max        7.900000     4.400000      6.900000     2.500000"
      ]
     },
     "execution_count": 6,
     "metadata": {},
     "output_type": "execute_result"
    }
   ],
   "source": [
    "iris.describe()"
   ]
  },
  {
   "cell_type": "code",
   "execution_count": 7,
   "id": "d6fd58f9",
   "metadata": {},
   "outputs": [
    {
     "name": "stdout",
     "output_type": "stream",
     "text": [
      "species\n",
      "setosa        50\n",
      "versicolor    50\n",
      "virginica     50\n",
      "Name: count, dtype: int64\n"
     ]
    }
   ],
   "source": [
    "print(iris['species'].value_counts())"
   ]
  },
  {
   "cell_type": "markdown",
   "id": "f31f507c",
   "metadata": {},
   "source": [
    "### 2. Calculating descriptive statics"
   ]
  },
  {
   "cell_type": "code",
   "execution_count": 9,
   "id": "d625dfd1",
   "metadata": {},
   "outputs": [
    {
     "name": "stdout",
     "output_type": "stream",
     "text": [
      "            count   mean       std  min  25%   50%    75%  max\n",
      "species                                                       \n",
      "setosa       50.0  1.462  0.173664  1.0  1.4  1.50  1.575  1.9\n",
      "versicolor   50.0  4.260  0.469911  3.0  4.0  4.35  4.600  5.1\n",
      "virginica    50.0  5.552  0.551895  4.5  5.1  5.55  5.875  6.9\n"
     ]
    }
   ],
   "source": [
    "group_stats = iris.groupby('species')['petal_length'].describe()\n",
    "print(group_stats)"
   ]
  },
  {
   "cell_type": "code",
   "execution_count": 10,
   "id": "8052e856",
   "metadata": {},
   "outputs": [
    {
     "name": "stdout",
     "output_type": "stream",
     "text": [
      "\n",
      "[그룹별 데이터 개수]\n",
      "species\n",
      "setosa        50\n",
      "versicolor    50\n",
      "virginica     50\n",
      "Name: count, dtype: int64\n"
     ]
    }
   ],
   "source": [
    "group_counts = iris['species'].value_counts()\n",
    "print(\"\\n[그룹별 데이터 개수]\")\n",
    "print(group_counts)"
   ]
  },
  {
   "cell_type": "markdown",
   "id": "b94d20ea",
   "metadata": {},
   "source": [
    "### 3. Visualization"
   ]
  },
  {
   "cell_type": "code",
   "execution_count": 3,
   "id": "1792fae2",
   "metadata": {},
   "outputs": [
    {
     "data": {
      "image/png": "[encoded data removed]",
      "text/plain": [
       "<Figure size 1000x600 with 1 Axes>"
      ]
     },
     "metadata": {},
     "output_type": "display_data"
    }
   ],
   "source": [
    "import matplotlib.pyplot as plt\n",
    "import seaborn as sns\n",
    "\n",
    "plt.figure(figsize=(10, 6))\n",
    "sns.boxplot(x='species', y='petal_length', data=iris)\n",
    "plt.title('Petal Length by Species')\n",
    "plt.xlabel('Species')\n",
    "plt.ylabel('Petal Length')\n",
    "plt.show()"
   ]
  },
  {
   "cell_type": "markdown",
   "id": "64f285bc",
   "metadata": {},
   "source": [
    "- **Virginica**는 전체적으로 가장 긴 Petal Length를 보이며, 중앙값 또한 높다.\n",
    "- **Versicolor**는 중간 정도의 길이 분포를 가지며, 이상치가 적다.\n",
    "- **Setosa**는 가장 짧은 Petal Length를 가지고 몇몇 이상치들이 보이며, 분포의 범위도 작다."
   ]
  },
  {
   "cell_type": "markdown",
   "id": "266cc373",
   "metadata": {},
   "source": [
    "### 4.  Normality test"
   ]
  },
  {
   "cell_type": "code",
   "execution_count": 4,
   "id": "f98f4e7e",
   "metadata": {},
   "outputs": [
    {
     "name": "stdout",
     "output_type": "stream",
     "text": [
      "setosa     | W-statistic: 0.9550 | p-value: 0.0548 | Normality satisfied\n",
      "versicolor | W-statistic: 0.9660 | p-value: 0.1585 | Normality satisfied\n",
      "virginica  | W-statistic: 0.9622 | p-value: 0.1098 | Normality satisfied\n"
     ]
    }
   ],
   "source": [
    "from scipy import stats\n",
    "\n",
    "species_list = iris['species'].unique()\n",
    "\n",
    "for species in species_list:\n",
    "    stat, p = stats.shapiro(iris[iris['species'] == species]['petal_length'])\n",
    "    print(f\"{species:10s} | W-statistic: {stat:.4f} | p-value: {p:.4f} | {'Normality satisfied' if p >= 0.05 else 'Normality violated'}\")"
   ]
  },
  {
   "cell_type": "markdown",
   "id": "89619bf3",
   "metadata": {},
   "source": [
    "Since all p-values are greater than 0.05, we **fail to reject the null hypothesis** for all groups.  \n",
    "Therefore, the assumption of normality is satisfied for each species."
   ]
  },
  {
   "cell_type": "markdown",
   "id": "872fd925",
   "metadata": {},
   "source": [
    "### 5. Levene's Test "
   ]
  },
  {
   "cell_type": "markdown",
   "id": "73acfb75",
   "metadata": {},
   "source": [
    "**Null Hypothesis (H₀)**:\n",
    "The variance of petal length is the same across all three species.\n",
    "(Var(setosa) = Var(versicolor) = Var(virginica))\n",
    "\n",
    "**Alternative Hypothesis (H₁)**:\n",
    "At least one species has a different variance of petal length.\n",
    "\n"
   ]
  },
  {
   "cell_type": "code",
   "execution_count": 5,
   "id": "c0b11cbf",
   "metadata": {},
   "outputs": [
    {
     "name": "stdout",
     "output_type": "stream",
     "text": [
      "Levene's Test: W-statistic = 19.4803, p-value = 0.0000\n",
      "violation of homogeneity of variance\n"
     ]
    }
   ],
   "source": [
    "from scipy.stats import levene\n",
    "\n",
    "setosa_petal_length = iris[iris['species'] == 'setosa']['petal_length']\n",
    "versicolor_petal_length = iris[iris['species'] == 'versicolor']['petal_length']\n",
    "virginica_petal_length = iris[iris['species'] == 'virginica']['petal_length']\n",
    "\n",
    "stat, p = levene(setosa_petal_length, versicolor_petal_length, virginica_petal_length)\n",
    "print(f\"Levene's Test: W-statistic = {stat:.4f}, p-value = {p:.4f}\")\n",
    "if p < 0.05:\n",
    "    print(\"violation of homogeneity of variance\")\n",
    "else:\n",
    "    print(\"homogeneity of variance satisfied\")"
   ]
  },
  {
   "cell_type": "markdown",
   "id": "53075657",
   "metadata": {},
   "source": [
    "Since the p-value is **less than 0.05**, we reject the null hypothesis.  \n",
    "Therefore, the assumption of **homogeneity of variance is violated**."
   ]
  },
  {
   "cell_type": "markdown",
   "id": "8118c3a6",
   "metadata": {},
   "source": [
    "### 6. Hypothesis setting"
   ]
  },
  {
   "cell_type": "markdown",
   "id": "81361dc1",
   "metadata": {},
   "source": [
    "**Null Hypothesis (H₀)**:\n",
    "The mean petal length is the same across all three species.\n",
    "(μ_setosa = μ_versicolor = μ_virginica)\n",
    "\n",
    "**Alternative Hypothesis (H₁)**:\n",
    "At least one species has a different mean petal length.\n",
    "\n"
   ]
  },
  {
   "cell_type": "markdown",
   "id": "04f9a104",
   "metadata": {},
   "source": [
    "### 7. ANOVA Implement"
   ]
  },
  {
   "cell_type": "code",
   "execution_count": 6,
   "id": "00c8a2b3",
   "metadata": {},
   "outputs": [
    {
     "name": "stdout",
     "output_type": "stream",
     "text": [
      "ANOVA: F-statistic = 1180.1612, p-value = 0.0000\n",
      "Reject the null hypothesis: At least one species has a different mean petal length.\n"
     ]
    }
   ],
   "source": [
    "from scipy.stats import f_oneway\n",
    "\n",
    "setosa_petal_length = iris[iris['species'] == 'setosa']['petal_length']\n",
    "versicolor_petal_length = iris[iris['species'] == 'versicolor']['petal_length']\n",
    "virginica_petal_length = iris[iris['species'] == 'virginica']['petal_length']\n",
    "stat, p = f_oneway(setosa_petal_length, versicolor_petal_length, virginica_petal_length)\n",
    "print(f\"ANOVA: F-statistic = {stat:.4f}, p-value = {p:.4f}\")\n",
    "\n",
    "if p < 0.05:\n",
    "    print(\"Reject the null hypothesis: At least one species has a different mean petal length.\")\n",
    "else:\n",
    "    print(\"Fail to reject the null hypothesis: The mean petal length is the same across all species.\")"
   ]
  },
  {
   "cell_type": "markdown",
   "id": "2d1f6bf1",
   "metadata": {},
   "source": [
    "Since the p-value is **less than 0.05**, we reject the null hypothesis. "
   ]
  },
  {
   "cell_type": "markdown",
   "id": "8797384c",
   "metadata": {},
   "source": [
    "### 8. Tukey’s HSD"
   ]
  },
  {
   "cell_type": "code",
   "execution_count": 10,
   "id": "467f93d2",
   "metadata": {},
   "outputs": [
    {
     "name": "stdout",
     "output_type": "stream",
     "text": [
      "   Multiple Comparison of Means - Tukey HSD, FWER=0.05   \n",
      "=========================================================\n",
      "  group1     group2   meandiff p-adj lower  upper  reject\n",
      "---------------------------------------------------------\n",
      "    setosa versicolor    2.798   0.0 2.5942 3.0018   True\n",
      "    setosa  virginica     4.09   0.0 3.8862 4.2938   True\n",
      "versicolor  virginica    1.292   0.0 1.0882 1.4958   True\n",
      "---------------------------------------------------------\n"
     ]
    }
   ],
   "source": [
    "from statsmodels.stats.multicomp import pairwise_tukeyhsd\n",
    "\n",
    "tukey_result = pairwise_tukeyhsd(endog=iris['petal_length'], groups=iris['species'], alpha=0.05)\n",
    "print(tukey_result)"
   ]
  },
  {
   "cell_type": "markdown",
   "id": "8e9d1855",
   "metadata": {},
   "source": [
    "All three pairwise comparisons (setosa vs versicolor, setosa vs virginica, versicolor vs virginica) yielded significant results (p < 0.05).  \n",
    "This confirms that the mean petal length differs significantly across **all species groups**."
   ]
  },
  {
   "cell_type": "markdown",
   "id": "8a304e57",
   "metadata": {},
   "source": [
    "### 9. Summarizing Result"
   ]
  },
  {
   "cell_type": "markdown",
   "id": "6e5cf05f",
   "metadata": {},
   "source": [
    "In this analysis, I investigated whether the mean petal length significantly differs across the three Iris species using standard statistical methods.\n",
    "The petal length of Iris flowers significantly differs depending on the species.  \n",
    "**Setosa** has the shortest petals, **Virginica** the longest, and **Versicolor** lies in between — all differences are statistically significant."
   ]
  },
  {
   "cell_type": "markdown",
   "id": "9c3a00db",
   "metadata": {},
   "source": [
    "# 2. Credit Card fraud detection"
   ]
  },
  {
   "cell_type": "markdown",
   "id": "f0c47a78",
   "metadata": {},
   "source": [
    "### 1. Data load & overview"
   ]
  },
  {
   "cell_type": "code",
   "execution_count": 1,
   "id": "3c16f8fc",
   "metadata": {},
   "outputs": [],
   "source": [
    "import pandas as pd\n",
    "\n",
    "df = pd.read_csv('creditcard.csv')"
   ]
  },
  {
   "cell_type": "code",
   "execution_count": 2,
   "id": "ffad9d07",
   "metadata": {},
   "outputs": [
    {
     "data": {
      "application/vnd.microsoft.datawrangler.viewer.v0+json": {
       "columns": [
        {
         "name": "index",
         "rawType": "int64",
         "type": "integer"
        },
        {
         "name": "Time",
         "rawType": "float64",
         "type": "float"
        },
        {
         "name": "V1",
         "rawType": "float64",
         "type": "float"
        },
        {
         "name": "V2",
         "rawType": "float64",
         "type": "float"
        },
        {
         "name": "V3",
         "rawType": "float64",
         "type": "float"
        },
        {
         "name": "V4",
         "rawType": "float64",
         "type": "float"
        },
        {
         "name": "V5",
         "rawType": "float64",
         "type": "float"
        },
        {
         "name": "V6",
         "rawType": "float64",
         "type": "float"
        },
        {
         "name": "V7",
         "rawType": "float64",
         "type": "float"
        },
        {
         "name": "V8",
         "rawType": "float64",
         "type": "float"
        },
        {
         "name": "V9",
         "rawType": "float64",
         "type": "float"
        },
        {
         "name": "V10",
         "rawType": "float64",
         "type": "float"
        },
        {
         "name": "V11",
         "rawType": "float64",
         "type": "float"
        },
        {
         "name": "V12",
         "rawType": "float64",
         "type": "float"
        },
        {
         "name": "V13",
         "rawType": "float64",
         "type": "float"
        },
        {
         "name": "V14",
         "rawType": "float64",
         "type": "float"
        },
        {
         "name": "V15",
         "rawType": "float64",
         "type": "float"
        },
        {
         "name": "V16",
         "rawType": "float64",
         "type": "float"
        },
        {
         "name": "V17",
         "rawType": "float64",
         "type": "float"
        },
        {
         "name": "V18",
         "rawType": "float64",
         "type": "float"
        },
        {
         "name": "V19",
         "rawType": "float64",
         "type": "float"
        },
        {
         "name": "V20",
         "rawType": "float64",
         "type": "float"
        },
        {
         "name": "V21",
         "rawType": "float64",
         "type": "float"
        },
        {
         "name": "V22",
         "rawType": "float64",
         "type": "float"
        },
        {
         "name": "V23",
         "rawType": "float64",
         "type": "float"
        },
        {
         "name": "V24",
         "rawType": "float64",
         "type": "float"
        },
        {
         "name": "V25",
         "rawType": "float64",
         "type": "float"
        },
        {
         "name": "V26",
         "rawType": "float64",
         "type": "float"
        },
        {
         "name": "V27",
         "rawType": "float64",
         "type": "float"
        },
        {
         "name": "V28",
         "rawType": "float64",
         "type": "float"
        },
        {
         "name": "Amount",
         "rawType": "float64",
         "type": "float"
        },
        {
         "name": "Class",
         "rawType": "int64",
         "type": "integer"
        }
       ],
       "ref": "02e1b9bf-6baf-4fe1-bac7-69e1722a2143",
       "rows": [
        [
         "0",
         "0.0",
         "-1.3598071336738",
         "-0.0727811733098497",
         "2.53634673796914",
         "1.37815522427443",
         "-0.338320769942518",
         "0.462387777762292",
         "0.239598554061257",
         "0.0986979012610507",
         "0.363786969611213",
         "0.0907941719789316",
         "-0.551599533260813",
         "-0.617800855762348",
         "-0.991389847235408",
         "-0.311169353699879",
         "1.46817697209427",
         "-0.470400525259478",
         "0.207971241929242",
         "0.0257905801985591",
         "0.403992960255733",
         "0.251412098239705",
         "-0.018306777944153",
         "0.277837575558899",
         "-0.110473910188767",
         "0.0669280749146731",
         "0.128539358273528",
         "-0.189114843888824",
         "0.133558376740387",
         "-0.0210530534538215",
         "149.62",
         "0"
        ],
        [
         "1",
         "0.0",
         "1.19185711131486",
         "0.26615071205963",
         "0.16648011335321",
         "0.448154078460911",
         "0.0600176492822243",
         "-0.0823608088155687",
         "-0.0788029833323113",
         "0.0851016549148104",
         "-0.255425128109186",
         "-0.166974414004614",
         "1.61272666105479",
         "1.06523531137287",
         "0.48909501589608",
         "-0.143772296441519",
         "0.635558093258208",
         "0.463917041022171",
         "-0.114804663102346",
         "-0.183361270123994",
         "-0.145783041325259",
         "-0.0690831352230203",
         "-0.225775248033138",
         "-0.638671952771851",
         "0.101288021253234",
         "-0.339846475529127",
         "0.167170404418143",
         "0.125894532368176",
         "-0.0089830991432281",
         "0.0147241691924927",
         "2.69",
         "0"
        ],
        [
         "2",
         "1.0",
         "-1.35835406159823",
         "-1.34016307473609",
         "1.77320934263119",
         "0.379779593034328",
         "-0.503198133318193",
         "1.80049938079263",
         "0.791460956450422",
         "0.247675786588991",
         "-1.51465432260583",
         "0.207642865216696",
         "0.624501459424895",
         "0.066083685268831",
         "0.717292731410831",
         "-0.165945922763554",
         "2.34586494901581",
         "-2.89008319444231",
         "1.10996937869599",
         "-0.121359313195888",
         "-2.26185709530414",
         "0.524979725224404",
         "0.247998153469754",
         "0.771679401917229",
         "0.909412262347719",
         "-0.689280956490685",
         "-0.327641833735251",
         "-0.139096571514147",
         "-0.0553527940384261",
         "-0.0597518405929204",
         "378.66",
         "0"
        ],
        [
         "3",
         "1.0",
         "-0.966271711572087",
         "-0.185226008082898",
         "1.79299333957872",
         "-0.863291275036453",
         "-0.0103088796030823",
         "1.24720316752486",
         "0.23760893977178",
         "0.377435874652262",
         "-1.38702406270197",
         "-0.0549519224713749",
         "-0.226487263835401",
         "0.178228225877303",
         "0.507756869957169",
         "-0.28792374549456",
         "-0.631418117709045",
         "-1.0596472454325",
         "-0.684092786345479",
         "1.96577500349538",
         "-1.2326219700892",
         "-0.208037781160366",
         "-0.108300452035545",
         "0.0052735967825345",
         "-0.190320518742841",
         "-1.17557533186321",
         "0.647376034602038",
         "-0.221928844458407",
         "0.0627228487293033",
         "0.0614576285006353",
         "123.5",
         "0"
        ],
        [
         "4",
         "2.0",
         "-1.15823309349523",
         "0.877736754848451",
         "1.548717846511",
         "0.403033933955121",
         "-0.407193377311653",
         "0.0959214624684256",
         "0.592940745385545",
         "-0.270532677192282",
         "0.817739308235294",
         "0.753074431976354",
         "-0.822842877946363",
         "0.53819555014995",
         "1.3458515932154",
         "-1.11966983471731",
         "0.175121130008994",
         "-0.451449182813529",
         "-0.237033239362776",
         "-0.0381947870352842",
         "0.803486924960175",
         "0.408542360392758",
         "-0.0094306971323291",
         "0.79827849458971",
         "-0.137458079619063",
         "0.141266983824769",
         "-0.206009587619756",
         "0.502292224181569",
         "0.219422229513348",
         "0.215153147499206",
         "69.99",
         "0"
        ]
       ],
       "shape": {
        "columns": 31,
        "rows": 5
       }
      },
      "text/html": [
       "<div>\n",
       "<style scoped>\n",
       "    .dataframe tbody tr th:only-of-type {\n",
       "        vertical-align: middle;\n",
       "    }\n",
       "\n",
       "    .dataframe tbody tr th {\n",
       "        vertical-align: top;\n",
       "    }\n",
       "\n",
       "    .dataframe thead th {\n",
       "        text-align: right;\n",
       "    }\n",
       "</style>\n",
       "<table border=\"1\" class=\"dataframe\">\n",
       "  <thead>\n",
       "    <tr style=\"text-align: right;\">\n",
       "      <th></th>\n",
       "      <th>Time</th>\n",
       "      <th>V1</th>\n",
       "      <th>V2</th>\n",
       "      <th>V3</th>\n",
       "      <th>V4</th>\n",
       "      <th>V5</th>\n",
       "      <th>V6</th>\n",
       "      <th>V7</th>\n",
       "      <th>V8</th>\n",
       "      <th>V9</th>\n",
       "      <th>...</th>\n",
       "      <th>V21</th>\n",
       "      <th>V22</th>\n",
       "      <th>V23</th>\n",
       "      <th>V24</th>\n",
       "      <th>V25</th>\n",
       "      <th>V26</th>\n",
       "      <th>V27</th>\n",
       "      <th>V28</th>\n",
       "      <th>Amount</th>\n",
       "      <th>Class</th>\n",
       "    </tr>\n",
       "  </thead>\n",
       "  <tbody>\n",
       "    <tr>\n",
       "      <th>0</th>\n",
       "      <td>0.0</td>\n",
       "      <td>-1.359807</td>\n",
       "      <td>-0.072781</td>\n",
       "      <td>2.536347</td>\n",
       "      <td>1.378155</td>\n",
       "      <td>-0.338321</td>\n",
       "      <td>0.462388</td>\n",
       "      <td>0.239599</td>\n",
       "      <td>0.098698</td>\n",
       "      <td>0.363787</td>\n",
       "      <td>...</td>\n",
       "      <td>-0.018307</td>\n",
       "      <td>0.277838</td>\n",
       "      <td>-0.110474</td>\n",
       "      <td>0.066928</td>\n",
       "      <td>0.128539</td>\n",
       "      <td>-0.189115</td>\n",
       "      <td>0.133558</td>\n",
       "      <td>-0.021053</td>\n",
       "      <td>149.62</td>\n",
       "      <td>0</td>\n",
       "    </tr>\n",
       "    <tr>\n",
       "      <th>1</th>\n",
       "      <td>0.0</td>\n",
       "      <td>1.191857</td>\n",
       "      <td>0.266151</td>\n",
       "      <td>0.166480</td>\n",
       "      <td>0.448154</td>\n",
       "      <td>0.060018</td>\n",
       "      <td>-0.082361</td>\n",
       "      <td>-0.078803</td>\n",
       "      <td>0.085102</td>\n",
       "      <td>-0.255425</td>\n",
       "      <td>...</td>\n",
       "      <td>-0.225775</td>\n",
       "      <td>-0.638672</td>\n",
       "      <td>0.101288</td>\n",
       "      <td>-0.339846</td>\n",
       "      <td>0.167170</td>\n",
       "      <td>0.125895</td>\n",
       "      <td>-0.008983</td>\n",
       "      <td>0.014724</td>\n",
       "      <td>2.69</td>\n",
       "      <td>0</td>\n",
       "    </tr>\n",
       "    <tr>\n",
       "      <th>2</th>\n",
       "      <td>1.0</td>\n",
       "      <td>-1.358354</td>\n",
       "      <td>-1.340163</td>\n",
       "      <td>1.773209</td>\n",
       "      <td>0.379780</td>\n",
       "      <td>-0.503198</td>\n",
       "      <td>1.800499</td>\n",
       "      <td>0.791461</td>\n",
       "      <td>0.247676</td>\n",
       "      <td>-1.514654</td>\n",
       "      <td>...</td>\n",
       "      <td>0.247998</td>\n",
       "      <td>0.771679</td>\n",
       "      <td>0.909412</td>\n",
       "      <td>-0.689281</td>\n",
       "      <td>-0.327642</td>\n",
       "      <td>-0.139097</td>\n",
       "      <td>-0.055353</td>\n",
       "      <td>-0.059752</td>\n",
       "      <td>378.66</td>\n",
       "      <td>0</td>\n",
       "    </tr>\n",
       "    <tr>\n",
       "      <th>3</th>\n",
       "      <td>1.0</td>\n",
       "      <td>-0.966272</td>\n",
       "      <td>-0.185226</td>\n",
       "      <td>1.792993</td>\n",
       "      <td>-0.863291</td>\n",
       "      <td>-0.010309</td>\n",
       "      <td>1.247203</td>\n",
       "      <td>0.237609</td>\n",
       "      <td>0.377436</td>\n",
       "      <td>-1.387024</td>\n",
       "      <td>...</td>\n",
       "      <td>-0.108300</td>\n",
       "      <td>0.005274</td>\n",
       "      <td>-0.190321</td>\n",
       "      <td>-1.175575</td>\n",
       "      <td>0.647376</td>\n",
       "      <td>-0.221929</td>\n",
       "      <td>0.062723</td>\n",
       "      <td>0.061458</td>\n",
       "      <td>123.50</td>\n",
       "      <td>0</td>\n",
       "    </tr>\n",
       "    <tr>\n",
       "      <th>4</th>\n",
       "      <td>2.0</td>\n",
       "      <td>-1.158233</td>\n",
       "      <td>0.877737</td>\n",
       "      <td>1.548718</td>\n",
       "      <td>0.403034</td>\n",
       "      <td>-0.407193</td>\n",
       "      <td>0.095921</td>\n",
       "      <td>0.592941</td>\n",
       "      <td>-0.270533</td>\n",
       "      <td>0.817739</td>\n",
       "      <td>...</td>\n",
       "      <td>-0.009431</td>\n",
       "      <td>0.798278</td>\n",
       "      <td>-0.137458</td>\n",
       "      <td>0.141267</td>\n",
       "      <td>-0.206010</td>\n",
       "      <td>0.502292</td>\n",
       "      <td>0.219422</td>\n",
       "      <td>0.215153</td>\n",
       "      <td>69.99</td>\n",
       "      <td>0</td>\n",
       "    </tr>\n",
       "  </tbody>\n",
       "</table>\n",
       "<p>5 rows × 31 columns</p>\n",
       "</div>"
      ],
      "text/plain": [
       "   Time        V1        V2        V3        V4        V5        V6        V7  \\\n",
       "0   0.0 -1.359807 -0.072781  2.536347  1.378155 -0.338321  0.462388  0.239599   \n",
       "1   0.0  1.191857  0.266151  0.166480  0.448154  0.060018 -0.082361 -0.078803   \n",
       "2   1.0 -1.358354 -1.340163  1.773209  0.379780 -0.503198  1.800499  0.791461   \n",
       "3   1.0 -0.966272 -0.185226  1.792993 -0.863291 -0.010309  1.247203  0.237609   \n",
       "4   2.0 -1.158233  0.877737  1.548718  0.403034 -0.407193  0.095921  0.592941   \n",
       "\n",
       "         V8        V9  ...       V21       V22       V23       V24       V25  \\\n",
       "0  0.098698  0.363787  ... -0.018307  0.277838 -0.110474  0.066928  0.128539   \n",
       "1  0.085102 -0.255425  ... -0.225775 -0.638672  0.101288 -0.339846  0.167170   \n",
       "2  0.247676 -1.514654  ...  0.247998  0.771679  0.909412 -0.689281 -0.327642   \n",
       "3  0.377436 -1.387024  ... -0.108300  0.005274 -0.190321 -1.175575  0.647376   \n",
       "4 -0.270533  0.817739  ... -0.009431  0.798278 -0.137458  0.141267 -0.206010   \n",
       "\n",
       "        V26       V27       V28  Amount  Class  \n",
       "0 -0.189115  0.133558 -0.021053  149.62      0  \n",
       "1  0.125895 -0.008983  0.014724    2.69      0  \n",
       "2 -0.139097 -0.055353 -0.059752  378.66      0  \n",
       "3 -0.221929  0.062723  0.061458  123.50      0  \n",
       "4  0.502292  0.219422  0.215153   69.99      0  \n",
       "\n",
       "[5 rows x 31 columns]"
      ]
     },
     "execution_count": 2,
     "metadata": {},
     "output_type": "execute_result"
    }
   ],
   "source": [
    "df.head()"
   ]
  },
  {
   "cell_type": "code",
   "execution_count": 3,
   "id": "9cb7ec5c",
   "metadata": {},
   "outputs": [
    {
     "name": "stdout",
     "output_type": "stream",
     "text": [
      "<class 'pandas.core.frame.DataFrame'>\n",
      "RangeIndex: 284807 entries, 0 to 284806\n",
      "Data columns (total 31 columns):\n",
      " #   Column  Non-Null Count   Dtype  \n",
      "---  ------  --------------   -----  \n",
      " 0   Time    284807 non-null  float64\n",
      " 1   V1      284807 non-null  float64\n",
      " 2   V2      284807 non-null  float64\n",
      " 3   V3      284807 non-null  float64\n",
      " 4   V4      284807 non-null  float64\n",
      " 5   V5      284807 non-null  float64\n",
      " 6   V6      284807 non-null  float64\n",
      " 7   V7      284807 non-null  float64\n",
      " 8   V8      284807 non-null  float64\n",
      " 9   V9      284807 non-null  float64\n",
      " 10  V10     284807 non-null  float64\n",
      " 11  V11     284807 non-null  float64\n",
      " 12  V12     284807 non-null  float64\n",
      " 13  V13     284807 non-null  float64\n",
      " 14  V14     284807 non-null  float64\n",
      " 15  V15     284807 non-null  float64\n",
      " 16  V16     284807 non-null  float64\n",
      " 17  V17     284807 non-null  float64\n",
      " 18  V18     284807 non-null  float64\n",
      " 19  V19     284807 non-null  float64\n",
      " 20  V20     284807 non-null  float64\n",
      " 21  V21     284807 non-null  float64\n",
      " 22  V22     284807 non-null  float64\n",
      " 23  V23     284807 non-null  float64\n",
      " 24  V24     284807 non-null  float64\n",
      " 25  V25     284807 non-null  float64\n",
      " 26  V26     284807 non-null  float64\n",
      " 27  V27     284807 non-null  float64\n",
      " 28  V28     284807 non-null  float64\n",
      " 29  Amount  284807 non-null  float64\n",
      " 30  Class   284807 non-null  int64  \n",
      "dtypes: float64(30), int64(1)\n",
      "memory usage: 67.4 MB\n"
     ]
    }
   ],
   "source": [
    "df.info()"
   ]
  },
  {
   "cell_type": "code",
   "execution_count": 4,
   "id": "506f3933",
   "metadata": {},
   "outputs": [
    {
     "data": {
      "application/vnd.microsoft.datawrangler.viewer.v0+json": {
       "columns": [
        {
         "name": "index",
         "rawType": "object",
         "type": "string"
        },
        {
         "name": "Time",
         "rawType": "float64",
         "type": "float"
        },
        {
         "name": "V1",
         "rawType": "float64",
         "type": "float"
        },
        {
         "name": "V2",
         "rawType": "float64",
         "type": "float"
        },
        {
         "name": "V3",
         "rawType": "float64",
         "type": "float"
        },
        {
         "name": "V4",
         "rawType": "float64",
         "type": "float"
        },
        {
         "name": "V5",
         "rawType": "float64",
         "type": "float"
        },
        {
         "name": "V6",
         "rawType": "float64",
         "type": "float"
        },
        {
         "name": "V7",
         "rawType": "float64",
         "type": "float"
        },
        {
         "name": "V8",
         "rawType": "float64",
         "type": "float"
        },
        {
         "name": "V9",
         "rawType": "float64",
         "type": "float"
        },
        {
         "name": "V10",
         "rawType": "float64",
         "type": "float"
        },
        {
         "name": "V11",
         "rawType": "float64",
         "type": "float"
        },
        {
         "name": "V12",
         "rawType": "float64",
         "type": "float"
        },
        {
         "name": "V13",
         "rawType": "float64",
         "type": "float"
        },
        {
         "name": "V14",
         "rawType": "float64",
         "type": "float"
        },
        {
         "name": "V15",
         "rawType": "float64",
         "type": "float"
        },
        {
         "name": "V16",
         "rawType": "float64",
         "type": "float"
        },
        {
         "name": "V17",
         "rawType": "float64",
         "type": "float"
        },
        {
         "name": "V18",
         "rawType": "float64",
         "type": "float"
        },
        {
         "name": "V19",
         "rawType": "float64",
         "type": "float"
        },
        {
         "name": "V20",
         "rawType": "float64",
         "type": "float"
        },
        {
         "name": "V21",
         "rawType": "float64",
         "type": "float"
        },
        {
         "name": "V22",
         "rawType": "float64",
         "type": "float"
        },
        {
         "name": "V23",
         "rawType": "float64",
         "type": "float"
        },
        {
         "name": "V24",
         "rawType": "float64",
         "type": "float"
        },
        {
         "name": "V25",
         "rawType": "float64",
         "type": "float"
        },
        {
         "name": "V26",
         "rawType": "float64",
         "type": "float"
        },
        {
         "name": "V27",
         "rawType": "float64",
         "type": "float"
        },
        {
         "name": "V28",
         "rawType": "float64",
         "type": "float"
        },
        {
         "name": "Amount",
         "rawType": "float64",
         "type": "float"
        },
        {
         "name": "Class",
         "rawType": "float64",
         "type": "float"
        }
       ],
       "ref": "0bffc487-22d5-423f-a0d5-bcabd390e2a2",
       "rows": [
        [
         "count",
         "284807.0",
         "284807.0",
         "284807.0",
         "284807.0",
         "284807.0",
         "284807.0",
         "284807.0",
         "284807.0",
         "284807.0",
         "284807.0",
         "284807.0",
         "284807.0",
         "284807.0",
         "284807.0",
         "284807.0",
         "284807.0",
         "284807.0",
         "284807.0",
         "284807.0",
         "284807.0",
         "284807.0",
         "284807.0",
         "284807.0",
         "284807.0",
         "284807.0",
         "284807.0",
         "284807.0",
         "284807.0",
         "284807.0",
         "284807.0",
         "284807.0"
        ],
        [
         "mean",
         "94813.85957508067",
         "1.1683749838001528e-15",
         "3.416908049651284e-16",
         "-1.379536707896593e-15",
         "2.0740951198584196e-15",
         "9.604066317127324e-16",
         "1.4873130132010145e-15",
         "-5.556467295694611e-16",
         "1.2134813634275587e-16",
         "-2.4063305498905906e-15",
         "2.2390527426993533e-15",
         "1.673326932726423e-15",
         "-1.2470117695222676e-15",
         "8.190001274383203e-16",
         "1.2072942051600827e-15",
         "4.887455859804944e-15",
         "1.4377159541859243e-15",
         "-3.7721706856547467e-16",
         "9.564149167014576e-16",
         "1.0399166050935636e-15",
         "6.406203628719748e-16",
         "1.654066907797022e-16",
         "-3.568593220079729e-16",
         "2.5786478972835623e-16",
         "4.473265530947536e-15",
         "5.340914685085768e-16",
         "1.6834371984034178e-15",
         "-3.6600908126037946e-16",
         "-1.2273899954199695e-16",
         "88.34961925093133",
         "0.001727485630620034"
        ],
        [
         "std",
         "47488.14595456617",
         "1.9586958038574858",
         "1.6513085794769975",
         "1.516255005177772",
         "1.4158685749409203",
         "1.3802467340314395",
         "1.3322710897575756",
         "1.2370935981826663",
         "1.1943529026692037",
         "1.0986320892243193",
         "1.0888497654025169",
         "1.0207130277115584",
         "0.9992013895301447",
         "0.9952742301251534",
         "0.9585956112570637",
         "0.9153160116104391",
         "0.8762528873883703",
         "0.8493370636743893",
         "0.8381762095288414",
         "0.8140405007685785",
         "0.7709250248871167",
         "0.734524014371313",
         "0.7257015604409116",
         "0.6244602955949903",
         "0.6056470678271602",
         "0.5212780705409426",
         "0.48222701326105727",
         "0.4036324949650307",
         "0.3300832641602509",
         "250.1201092401885",
         "0.04152718963546506"
        ],
        [
         "min",
         "0.0",
         "-56.407509631329",
         "-72.7157275629303",
         "-48.3255893623954",
         "-5.68317119816995",
         "-113.743306711146",
         "-26.1605059358433",
         "-43.5572415712451",
         "-73.2167184552674",
         "-13.4340663182301",
         "-24.5882624372475",
         "-4.79747346479757",
         "-18.6837146333443",
         "-5.79188120632084",
         "-19.2143254902614",
         "-4.49894467676621",
         "-14.1298545174931",
         "-25.1627993693248",
         "-9.49874592104677",
         "-7.21352743017759",
         "-54.497720494566",
         "-34.8303821448146",
         "-10.933143697655",
         "-44.8077352037913",
         "-2.83662691870341",
         "-10.2953970749851",
         "-2.60455055280817",
         "-22.5656793207827",
         "-15.4300839055349",
         "0.0",
         "0.0"
        ],
        [
         "25%",
         "54201.5",
         "-0.920373384390322",
         "-0.598549913464916",
         "-0.8903648381551406",
         "-0.848640116331273",
         "-0.6915970708876575",
         "-0.768295608460489",
         "-0.5540758790365226",
         "-0.2086297440394665",
         "-0.6430975702665915",
         "-0.5354257264933235",
         "-0.7624941955129775",
         "-0.40557148544041355",
         "-0.6485392991145684",
         "-0.4255740124549935",
         "-0.582884279157456",
         "-0.46803676671289796",
         "-0.483748313707048",
         "-0.498849798665041",
         "-0.4562989187444475",
         "-0.21172136467424701",
         "-0.22839494677851702",
         "-0.5423503726606616",
         "-0.16184634501488449",
         "-0.3545861364094985",
         "-0.31714505406527",
         "-0.3269839258807195",
         "-0.07083952930446921",
         "-0.0529597930169809",
         "5.6",
         "0.0"
        ],
        [
         "50%",
         "84692.0",
         "0.0181087991615309",
         "0.0654855563960555",
         "0.179846343563544",
         "-0.0198465294811989",
         "-0.0543358267364858",
         "-0.274187076506651",
         "0.0401030827945351",
         "0.0223580364366631",
         "-0.051428731550349",
         "-0.0929173835961975",
         "-0.032757354499007",
         "0.140032588291332",
         "-0.0135680567852071",
         "0.0506013193100486",
         "0.0480715497626106",
         "0.0664133205843014",
         "-0.0656757538072252",
         "-0.0036363123546992",
         "0.0037348229952574",
         "-0.0624810924603664",
         "-0.0294501676953819",
         "0.0067819425282695",
         "-0.0111929302967212",
         "0.0409760560572798",
         "0.0165935016367397",
         "-0.0521391080182019",
         "0.0013421459786502",
         "0.011243831564982",
         "22.0",
         "0.0"
        ],
        [
         "75%",
         "139320.5",
         "1.315641693877865",
         "0.8037238712400945",
         "1.027195542465555",
         "0.7433412894685876",
         "0.611926439735193",
         "0.39856489635610504",
         "0.5704360728775986",
         "0.327345861923449",
         "0.5971390302822686",
         "0.453923445139507",
         "0.739593407321606",
         "0.618238032946136",
         "0.662504959439974",
         "0.493149849218149",
         "0.648820806317158",
         "0.523296312475344",
         "0.3996749826503845",
         "0.5008067468872159",
         "0.458949355762679",
         "0.1330408409942945",
         "0.1863772033785755",
         "0.5285536353339865",
         "0.14764206385605",
         "0.439526600168186",
         "0.350715562867386",
         "0.2409521737147555",
         "0.09104511968580689",
         "0.07827995475782015",
         "77.16499999999999",
         "0.0"
        ],
        [
         "max",
         "172792.0",
         "2.45492999121121",
         "22.0577289904909",
         "9.38255843282114",
         "16.8753440335975",
         "34.8016658766686",
         "73.3016255459646",
         "120.589493945238",
         "20.0072083651213",
         "15.5949946071278",
         "23.7451361206545",
         "12.0189131816199",
         "7.8483920756446",
         "7.12688295859376",
         "10.5267660517847",
         "8.87774159774277",
         "17.3151115176278",
         "9.25352625047285",
         "5.04106918541184",
         "5.59197142733558",
         "39.4209042482199",
         "27.2028391573154",
         "10.5030900899454",
         "22.5284116897749",
         "4.58454913689817",
         "7.51958867870916",
         "3.5173456116238",
         "31.6121981061363",
         "33.8478078188831",
         "25691.16",
         "1.0"
        ]
       ],
       "shape": {
        "columns": 31,
        "rows": 8
       }
      },
      "text/html": [
       "<div>\n",
       "<style scoped>\n",
       "    .dataframe tbody tr th:only-of-type {\n",
       "        vertical-align: middle;\n",
       "    }\n",
       "\n",
       "    .dataframe tbody tr th {\n",
       "        vertical-align: top;\n",
       "    }\n",
       "\n",
       "    .dataframe thead th {\n",
       "        text-align: right;\n",
       "    }\n",
       "</style>\n",
       "<table border=\"1\" class=\"dataframe\">\n",
       "  <thead>\n",
       "    <tr style=\"text-align: right;\">\n",
       "      <th></th>\n",
       "      <th>Time</th>\n",
       "      <th>V1</th>\n",
       "      <th>V2</th>\n",
       "      <th>V3</th>\n",
       "      <th>V4</th>\n",
       "      <th>V5</th>\n",
       "      <th>V6</th>\n",
       "      <th>V7</th>\n",
       "      <th>V8</th>\n",
       "      <th>V9</th>\n",
       "      <th>...</th>\n",
       "      <th>V21</th>\n",
       "      <th>V22</th>\n",
       "      <th>V23</th>\n",
       "      <th>V24</th>\n",
       "      <th>V25</th>\n",
       "      <th>V26</th>\n",
       "      <th>V27</th>\n",
       "      <th>V28</th>\n",
       "      <th>Amount</th>\n",
       "      <th>Class</th>\n",
       "    </tr>\n",
       "  </thead>\n",
       "  <tbody>\n",
       "    <tr>\n",
       "      <th>count</th>\n",
       "      <td>284807.000000</td>\n",
       "      <td>2.848070e+05</td>\n",
       "      <td>2.848070e+05</td>\n",
       "      <td>2.848070e+05</td>\n",
       "      <td>2.848070e+05</td>\n",
       "      <td>2.848070e+05</td>\n",
       "      <td>2.848070e+05</td>\n",
       "      <td>2.848070e+05</td>\n",
       "      <td>2.848070e+05</td>\n",
       "      <td>2.848070e+05</td>\n",
       "      <td>...</td>\n",
       "      <td>2.848070e+05</td>\n",
       "      <td>2.848070e+05</td>\n",
       "      <td>2.848070e+05</td>\n",
       "      <td>2.848070e+05</td>\n",
       "      <td>2.848070e+05</td>\n",
       "      <td>2.848070e+05</td>\n",
       "      <td>2.848070e+05</td>\n",
       "      <td>2.848070e+05</td>\n",
       "      <td>284807.000000</td>\n",
       "      <td>284807.000000</td>\n",
       "    </tr>\n",
       "    <tr>\n",
       "      <th>mean</th>\n",
       "      <td>94813.859575</td>\n",
       "      <td>1.168375e-15</td>\n",
       "      <td>3.416908e-16</td>\n",
       "      <td>-1.379537e-15</td>\n",
       "      <td>2.074095e-15</td>\n",
       "      <td>9.604066e-16</td>\n",
       "      <td>1.487313e-15</td>\n",
       "      <td>-5.556467e-16</td>\n",
       "      <td>1.213481e-16</td>\n",
       "      <td>-2.406331e-15</td>\n",
       "      <td>...</td>\n",
       "      <td>1.654067e-16</td>\n",
       "      <td>-3.568593e-16</td>\n",
       "      <td>2.578648e-16</td>\n",
       "      <td>4.473266e-15</td>\n",
       "      <td>5.340915e-16</td>\n",
       "      <td>1.683437e-15</td>\n",
       "      <td>-3.660091e-16</td>\n",
       "      <td>-1.227390e-16</td>\n",
       "      <td>88.349619</td>\n",
       "      <td>0.001727</td>\n",
       "    </tr>\n",
       "    <tr>\n",
       "      <th>std</th>\n",
       "      <td>47488.145955</td>\n",
       "      <td>1.958696e+00</td>\n",
       "      <td>1.651309e+00</td>\n",
       "      <td>1.516255e+00</td>\n",
       "      <td>1.415869e+00</td>\n",
       "      <td>1.380247e+00</td>\n",
       "      <td>1.332271e+00</td>\n",
       "      <td>1.237094e+00</td>\n",
       "      <td>1.194353e+00</td>\n",
       "      <td>1.098632e+00</td>\n",
       "      <td>...</td>\n",
       "      <td>7.345240e-01</td>\n",
       "      <td>7.257016e-01</td>\n",
       "      <td>6.244603e-01</td>\n",
       "      <td>6.056471e-01</td>\n",
       "      <td>5.212781e-01</td>\n",
       "      <td>4.822270e-01</td>\n",
       "      <td>4.036325e-01</td>\n",
       "      <td>3.300833e-01</td>\n",
       "      <td>250.120109</td>\n",
       "      <td>0.041527</td>\n",
       "    </tr>\n",
       "    <tr>\n",
       "      <th>min</th>\n",
       "      <td>0.000000</td>\n",
       "      <td>-5.640751e+01</td>\n",
       "      <td>-7.271573e+01</td>\n",
       "      <td>-4.832559e+01</td>\n",
       "      <td>-5.683171e+00</td>\n",
       "      <td>-1.137433e+02</td>\n",
       "      <td>-2.616051e+01</td>\n",
       "      <td>-4.355724e+01</td>\n",
       "      <td>-7.321672e+01</td>\n",
       "      <td>-1.343407e+01</td>\n",
       "      <td>...</td>\n",
       "      <td>-3.483038e+01</td>\n",
       "      <td>-1.093314e+01</td>\n",
       "      <td>-4.480774e+01</td>\n",
       "      <td>-2.836627e+00</td>\n",
       "      <td>-1.029540e+01</td>\n",
       "      <td>-2.604551e+00</td>\n",
       "      <td>-2.256568e+01</td>\n",
       "      <td>-1.543008e+01</td>\n",
       "      <td>0.000000</td>\n",
       "      <td>0.000000</td>\n",
       "    </tr>\n",
       "    <tr>\n",
       "      <th>25%</th>\n",
       "      <td>54201.500000</td>\n",
       "      <td>-9.203734e-01</td>\n",
       "      <td>-5.985499e-01</td>\n",
       "      <td>-8.903648e-01</td>\n",
       "      <td>-8.486401e-01</td>\n",
       "      <td>-6.915971e-01</td>\n",
       "      <td>-7.682956e-01</td>\n",
       "      <td>-5.540759e-01</td>\n",
       "      <td>-2.086297e-01</td>\n",
       "      <td>-6.430976e-01</td>\n",
       "      <td>...</td>\n",
       "      <td>-2.283949e-01</td>\n",
       "      <td>-5.423504e-01</td>\n",
       "      <td>-1.618463e-01</td>\n",
       "      <td>-3.545861e-01</td>\n",
       "      <td>-3.171451e-01</td>\n",
       "      <td>-3.269839e-01</td>\n",
       "      <td>-7.083953e-02</td>\n",
       "      <td>-5.295979e-02</td>\n",
       "      <td>5.600000</td>\n",
       "      <td>0.000000</td>\n",
       "    </tr>\n",
       "    <tr>\n",
       "      <th>50%</th>\n",
       "      <td>84692.000000</td>\n",
       "      <td>1.810880e-02</td>\n",
       "      <td>6.548556e-02</td>\n",
       "      <td>1.798463e-01</td>\n",
       "      <td>-1.984653e-02</td>\n",
       "      <td>-5.433583e-02</td>\n",
       "      <td>-2.741871e-01</td>\n",
       "      <td>4.010308e-02</td>\n",
       "      <td>2.235804e-02</td>\n",
       "      <td>-5.142873e-02</td>\n",
       "      <td>...</td>\n",
       "      <td>-2.945017e-02</td>\n",
       "      <td>6.781943e-03</td>\n",
       "      <td>-1.119293e-02</td>\n",
       "      <td>4.097606e-02</td>\n",
       "      <td>1.659350e-02</td>\n",
       "      <td>-5.213911e-02</td>\n",
       "      <td>1.342146e-03</td>\n",
       "      <td>1.124383e-02</td>\n",
       "      <td>22.000000</td>\n",
       "      <td>0.000000</td>\n",
       "    </tr>\n",
       "    <tr>\n",
       "      <th>75%</th>\n",
       "      <td>139320.500000</td>\n",
       "      <td>1.315642e+00</td>\n",
       "      <td>8.037239e-01</td>\n",
       "      <td>1.027196e+00</td>\n",
       "      <td>7.433413e-01</td>\n",
       "      <td>6.119264e-01</td>\n",
       "      <td>3.985649e-01</td>\n",
       "      <td>5.704361e-01</td>\n",
       "      <td>3.273459e-01</td>\n",
       "      <td>5.971390e-01</td>\n",
       "      <td>...</td>\n",
       "      <td>1.863772e-01</td>\n",
       "      <td>5.285536e-01</td>\n",
       "      <td>1.476421e-01</td>\n",
       "      <td>4.395266e-01</td>\n",
       "      <td>3.507156e-01</td>\n",
       "      <td>2.409522e-01</td>\n",
       "      <td>9.104512e-02</td>\n",
       "      <td>7.827995e-02</td>\n",
       "      <td>77.165000</td>\n",
       "      <td>0.000000</td>\n",
       "    </tr>\n",
       "    <tr>\n",
       "      <th>max</th>\n",
       "      <td>172792.000000</td>\n",
       "      <td>2.454930e+00</td>\n",
       "      <td>2.205773e+01</td>\n",
       "      <td>9.382558e+00</td>\n",
       "      <td>1.687534e+01</td>\n",
       "      <td>3.480167e+01</td>\n",
       "      <td>7.330163e+01</td>\n",
       "      <td>1.205895e+02</td>\n",
       "      <td>2.000721e+01</td>\n",
       "      <td>1.559499e+01</td>\n",
       "      <td>...</td>\n",
       "      <td>2.720284e+01</td>\n",
       "      <td>1.050309e+01</td>\n",
       "      <td>2.252841e+01</td>\n",
       "      <td>4.584549e+00</td>\n",
       "      <td>7.519589e+00</td>\n",
       "      <td>3.517346e+00</td>\n",
       "      <td>3.161220e+01</td>\n",
       "      <td>3.384781e+01</td>\n",
       "      <td>25691.160000</td>\n",
       "      <td>1.000000</td>\n",
       "    </tr>\n",
       "  </tbody>\n",
       "</table>\n",
       "<p>8 rows × 31 columns</p>\n",
       "</div>"
      ],
      "text/plain": [
       "                Time            V1            V2            V3            V4  \\\n",
       "count  284807.000000  2.848070e+05  2.848070e+05  2.848070e+05  2.848070e+05   \n",
       "mean    94813.859575  1.168375e-15  3.416908e-16 -1.379537e-15  2.074095e-15   \n",
       "std     47488.145955  1.958696e+00  1.651309e+00  1.516255e+00  1.415869e+00   \n",
       "min         0.000000 -5.640751e+01 -7.271573e+01 -4.832559e+01 -5.683171e+00   \n",
       "25%     54201.500000 -9.203734e-01 -5.985499e-01 -8.903648e-01 -8.486401e-01   \n",
       "50%     84692.000000  1.810880e-02  6.548556e-02  1.798463e-01 -1.984653e-02   \n",
       "75%    139320.500000  1.315642e+00  8.037239e-01  1.027196e+00  7.433413e-01   \n",
       "max    172792.000000  2.454930e+00  2.205773e+01  9.382558e+00  1.687534e+01   \n",
       "\n",
       "                 V5            V6            V7            V8            V9  \\\n",
       "count  2.848070e+05  2.848070e+05  2.848070e+05  2.848070e+05  2.848070e+05   \n",
       "mean   9.604066e-16  1.487313e-15 -5.556467e-16  1.213481e-16 -2.406331e-15   \n",
       "std    1.380247e+00  1.332271e+00  1.237094e+00  1.194353e+00  1.098632e+00   \n",
       "min   -1.137433e+02 -2.616051e+01 -4.355724e+01 -7.321672e+01 -1.343407e+01   \n",
       "25%   -6.915971e-01 -7.682956e-01 -5.540759e-01 -2.086297e-01 -6.430976e-01   \n",
       "50%   -5.433583e-02 -2.741871e-01  4.010308e-02  2.235804e-02 -5.142873e-02   \n",
       "75%    6.119264e-01  3.985649e-01  5.704361e-01  3.273459e-01  5.971390e-01   \n",
       "max    3.480167e+01  7.330163e+01  1.205895e+02  2.000721e+01  1.559499e+01   \n",
       "\n",
       "       ...           V21           V22           V23           V24  \\\n",
       "count  ...  2.848070e+05  2.848070e+05  2.848070e+05  2.848070e+05   \n",
       "mean   ...  1.654067e-16 -3.568593e-16  2.578648e-16  4.473266e-15   \n",
       "std    ...  7.345240e-01  7.257016e-01  6.244603e-01  6.056471e-01   \n",
       "min    ... -3.483038e+01 -1.093314e+01 -4.480774e+01 -2.836627e+00   \n",
       "25%    ... -2.283949e-01 -5.423504e-01 -1.618463e-01 -3.545861e-01   \n",
       "50%    ... -2.945017e-02  6.781943e-03 -1.119293e-02  4.097606e-02   \n",
       "75%    ...  1.863772e-01  5.285536e-01  1.476421e-01  4.395266e-01   \n",
       "max    ...  2.720284e+01  1.050309e+01  2.252841e+01  4.584549e+00   \n",
       "\n",
       "                V25           V26           V27           V28         Amount  \\\n",
       "count  2.848070e+05  2.848070e+05  2.848070e+05  2.848070e+05  284807.000000   \n",
       "mean   5.340915e-16  1.683437e-15 -3.660091e-16 -1.227390e-16      88.349619   \n",
       "std    5.212781e-01  4.822270e-01  4.036325e-01  3.300833e-01     250.120109   \n",
       "min   -1.029540e+01 -2.604551e+00 -2.256568e+01 -1.543008e+01       0.000000   \n",
       "25%   -3.171451e-01 -3.269839e-01 -7.083953e-02 -5.295979e-02       5.600000   \n",
       "50%    1.659350e-02 -5.213911e-02  1.342146e-03  1.124383e-02      22.000000   \n",
       "75%    3.507156e-01  2.409522e-01  9.104512e-02  7.827995e-02      77.165000   \n",
       "max    7.519589e+00  3.517346e+00  3.161220e+01  3.384781e+01   25691.160000   \n",
       "\n",
       "               Class  \n",
       "count  284807.000000  \n",
       "mean        0.001727  \n",
       "std         0.041527  \n",
       "min         0.000000  \n",
       "25%         0.000000  \n",
       "50%         0.000000  \n",
       "75%         0.000000  \n",
       "max         1.000000  \n",
       "\n",
       "[8 rows x 31 columns]"
      ]
     },
     "execution_count": 4,
     "metadata": {},
     "output_type": "execute_result"
    }
   ],
   "source": [
    "df.describe()"
   ]
  },
  {
   "cell_type": "code",
   "execution_count": 5,
   "id": "02e1ac50",
   "metadata": {},
   "outputs": [
    {
     "name": "stdout",
     "output_type": "stream",
     "text": [
      "\n",
      "[Class distribution]\n",
      "Class\n",
      "0    284315\n",
      "1       492\n",
      "Name: count, dtype: int64\n",
      "\n",
      "[Class distribution percentage]\n",
      "Class\n",
      "0    99.827251\n",
      "1     0.172749\n",
      "Name: count, dtype: float64\n"
     ]
    }
   ],
   "source": [
    "class_counts = df['Class'].value_counts()\n",
    "print(\"\\n[Class distribution]\")\n",
    "print(class_counts)\n",
    "print(\"\\n[Class distribution percentage]\")\n",
    "print(class_counts / len(df) * 100)"
   ]
  },
  {
   "cell_type": "markdown",
   "id": "e3bef687",
   "metadata": {},
   "source": [
    "### 2. Sampling"
   ]
  },
  {
   "cell_type": "code",
   "execution_count": 6,
   "id": "daef94d5",
   "metadata": {},
   "outputs": [
    {
     "name": "stdout",
     "output_type": "stream",
     "text": [
      "\n",
      "[Sampled Class distribution]\n",
      "Class\n",
      "0    10000\n",
      "1      492\n",
      "Name: count, dtype: int64\n",
      "\n",
      "[Sampled Class distribution percentage]\n",
      "Class\n",
      "0    95.310713\n",
      "1     4.689287\n",
      "Name: count, dtype: float64\n"
     ]
    }
   ],
   "source": [
    "fraud_samples = df[df['Class'] == 1]\n",
    "normal_samples = df[df['Class'] == 0].sample(n=10000, random_state=42)\n",
    "sampled_df = pd.concat([fraud_samples, normal_samples], axis=0)\n",
    "df_sampled = sampled_df.sample(frac=1, random_state=42).reset_index(drop=True) \n",
    "\n",
    "class_counts_sampled = df_sampled['Class'].value_counts()\n",
    "print(\"\\n[Sampled Class distribution]\")\n",
    "print(class_counts_sampled)\n",
    "print(\"\\n[Sampled Class distribution percentage]\")\n",
    "print(class_counts_sampled / len(df_sampled) * 100)"
   ]
  },
  {
   "cell_type": "markdown",
   "id": "b8ddad55",
   "metadata": {},
   "source": [
    "### 3. Data preprocessing"
   ]
  },
  {
   "cell_type": "code",
   "execution_count": 7,
   "id": "d1cdf105",
   "metadata": {},
   "outputs": [
    {
     "name": "stdout",
     "output_type": "stream",
     "text": [
      "\n",
      "[Feature matrix X]\n",
      "       Time        V1        V2        V3        V4        V5        V6  \\\n",
      "0   42801.0  0.340725 -1.225499 -0.745517  1.026148  0.654991  2.089517   \n",
      "1   75825.0  1.012672  0.116840  0.470676  1.294378  0.364923  1.200693   \n",
      "2   75126.0  0.882585 -0.154542  0.400071  1.414269 -0.240769  0.080165   \n",
      "3   71499.0  1.099810  0.114129  1.386525  2.530134 -0.675278  0.640243   \n",
      "4  140413.0 -2.006545 -0.963629 -0.943202  2.867748  1.774236 -1.073671   \n",
      "\n",
      "         V7        V8        V9  ...       V20       V21       V22       V23  \\\n",
      "0  0.296109  0.515619 -0.002562  ...  0.451794  0.299103  0.238042 -0.466934   \n",
      "1 -0.157411  0.396090  0.178674  ... -0.288865  0.013154  0.431855  0.076186   \n",
      "2  0.176762  0.043818 -0.111040  ...  0.099676  0.042784  0.095247 -0.161705   \n",
      "3 -0.734736  0.391948  0.031519  ... -0.203043 -0.066679 -0.129717  0.002909   \n",
      "4 -0.290067 -0.333631  0.451643  ... -0.428399 -0.099571  0.806569 -1.513377   \n",
      "\n",
      "        V24       V25       V26       V27       V28  Amount_Scaled  \n",
      "0 -1.871375  0.447112 -0.148891 -0.000906  0.044125       1.325945  \n",
      "1 -0.614624  0.397262 -0.234467  0.100057  0.007686      -0.390168  \n",
      "2  0.258943  0.588348 -0.357271  0.019341  0.029734       0.165644  \n",
      "3 -0.023758  0.275002 -0.037529  0.031272  0.020511      -0.381024  \n",
      "4 -0.324156 -1.361963 -0.270512  0.480372 -0.904235      -0.186490  \n",
      "\n",
      "[5 rows x 30 columns]\n",
      "\n",
      "[Target vector y]\n",
      "0    0\n",
      "1    0\n",
      "2    0\n",
      "3    0\n",
      "4    0\n",
      "Name: Class, dtype: int64\n"
     ]
    }
   ],
   "source": [
    "from sklearn.preprocessing import StandardScaler\n",
    "\n",
    "scalar = StandardScaler()\n",
    "\n",
    "df_sampled['Amount_Scaled'] = scalar.fit_transform(df_sampled[['Amount']])\n",
    "\n",
    "df_sampled.drop(columns=['Amount'], inplace=True)\n",
    "\n",
    "X = df_sampled.drop(columns=['Class'])\n",
    "y = df_sampled['Class']\n",
    "\n",
    "print(\"\\n[Feature matrix X]\")\n",
    "print(X.head())\n",
    "print(\"\\n[Target vector y]\")\n",
    "print(y.head())"
   ]
  },
  {
   "cell_type": "markdown",
   "id": "8ccc5840",
   "metadata": {},
   "source": [
    "### 4. Train-Test split"
   ]
  },
  {
   "cell_type": "code",
   "execution_count": 8,
   "id": "d6a480d2",
   "metadata": {},
   "outputs": [
    {
     "name": "stdout",
     "output_type": "stream",
     "text": [
      "\n",
      " Train set distribution\n",
      "Class\n",
      "0    7999\n",
      "1     394\n",
      "Name: count, dtype: int64\n",
      "\n",
      " Train set percentage\n",
      "Class\n",
      "0    95.305612\n",
      "1     4.694388\n",
      "Name: count, dtype: float64\n",
      "\n",
      " Test set distribution\n",
      "Class\n",
      "0    2001\n",
      "1      98\n",
      "Name: count, dtype: int64\n",
      "\n",
      " Test set percentage\n",
      "Class\n",
      "0    95.33111\n",
      "1     4.66889\n",
      "Name: count, dtype: float64\n"
     ]
    }
   ],
   "source": [
    "from sklearn.model_selection import train_test_split\n",
    "\n",
    "X_train, X_test, y_train, y_test = train_test_split(X, y, test_size=0.2, random_state=42, stratify=y)\n",
    "\n",
    "print(\"\\n Train set distribution\")\n",
    "print(y_train.value_counts())\n",
    "print(\"\\n Train set percentage\")\n",
    "print(y_train.value_counts() / len(y_train) * 100)\n",
    "print(\"\\n Test set distribution\")\n",
    "print(y_test.value_counts())\n",
    "print(\"\\n Test set percentage\")\n",
    "print(y_test.value_counts() / len(y_test) * 100)"
   ]
  },
  {
   "cell_type": "markdown",
   "id": "d03d9f51",
   "metadata": {},
   "source": [
    "### 5. SMOTE"
   ]
  },
  {
   "cell_type": "code",
   "execution_count": 9,
   "id": "72210ba3",
   "metadata": {},
   "outputs": [
    {
     "name": "stdout",
     "output_type": "stream",
     "text": [
      "\n",
      " Prev distribution of training set\n",
      "Class\n",
      "0    7999\n",
      "1     394\n",
      "Name: count, dtype: int64\n",
      "\n",
      " After SMOTE distribution of training set\n",
      "Class\n",
      "0    7999\n",
      "1    7999\n",
      "Name: count, dtype: int64\n"
     ]
    }
   ],
   "source": [
    "from imblearn.over_sampling import SMOTE  \n",
    "\n",
    "smote = SMOTE(random_state=42)\n",
    "\n",
    "X_train_smote, y_train_smote = smote.fit_resample(X_train, y_train)\n",
    "\n",
    "print(\"\\n Prev distribution of training set\")\n",
    "print(y_train.value_counts())\n",
    "print(\"\\n After SMOTE distribution of training set\")\n",
    "print(y_train_smote.value_counts())\n"
   ]
  },
  {
   "cell_type": "markdown",
   "id": "91730a36",
   "metadata": {},
   "source": [
    "Reason for applying SMOTE: <br>\n",
    "The dataset is highly imbalnced, with the fraudlent transactions (Class = 1) making up less than 5% of the data. <br>\n",
    "Training a model on such data may cause it to bias toward the majority class and fail to learn meaningful pattern for fraud detection. <br>\n",
    "**SMOTE** addresses this by generating sythetic samples for the minority class."
   ]
  },
  {
   "cell_type": "markdown",
   "id": "7a16fba5",
   "metadata": {},
   "source": [
    "### 6. Model training"
   ]
  },
  {
   "cell_type": "code",
   "execution_count": 11,
   "id": "73265b0a",
   "metadata": {},
   "outputs": [
    {
     "name": "stdout",
     "output_type": "stream",
     "text": [
      "Classification Report:\n",
      "              precision    recall  f1-score   support\n",
      "\n",
      "           0     0.9916    0.9990    0.9953      2001\n",
      "           1     0.9759    0.8265    0.8950        98\n",
      "\n",
      "    accuracy                         0.9909      2099\n",
      "   macro avg     0.9837    0.9128    0.9451      2099\n",
      "weighted avg     0.9908    0.9909    0.9906      2099\n",
      "\n",
      "\n",
      "PR-AUC: 0.9158\n"
     ]
    }
   ],
   "source": [
    "from sklearn.ensemble import RandomForestClassifier\n",
    "from sklearn.metrics import classification_report, average_precision_score\n",
    "\n",
    "model = RandomForestClassifier(random_state=42)\n",
    "model.fit(X_train_smote, y_train_smote)\n",
    "\n",
    "y_pred = model.predict(X_test)\n",
    "y_prob = model.predict_proba(X_test)[:, 1]\n",
    "\n",
    "print(\"Classification Report:\")\n",
    "print(classification_report(y_test, y_pred, digits=4))\n",
    "\n",
    "pr_auc = average_precision_score(y_test, y_prob)\n",
    "print(f\"\\nPR-AUC: {pr_auc:.4f}\")\n"
   ]
  },
  {
   "cell_type": "markdown",
   "id": "fe837e67",
   "metadata": {},
   "source": [
    "### 7. Final Evaluation"
   ]
  },
  {
   "cell_type": "markdown",
   "id": "47e940c9",
   "metadata": {},
   "source": [
    "**Model result (Class 0 - Normal Transactions):**\n",
    "- Precision: 0.9916  \n",
    "- Recall: 0.9990  \n",
    "- F1-score: 0.9953  \n",
    "- Support: 2001"
   ]
  },
  {
   "cell_type": "markdown",
   "id": "3369a14e",
   "metadata": {},
   "source": [
    "**Model result (Class 1 - Fraud Transactions):**\n",
    "- Precision: 0.9759  \n",
    "- Recall: 0.8265  \n",
    "- F1-score: 0.8950  \n",
    "- Support: 98  \n",
    "- PR-AUC: 0.9158\n",
    "\n",
    "The model meets all required performance criteria for both classes."
   ]
  }
 ],
 "metadata": {
  "kernelspec": {
   "display_name": "ybigta",
   "language": "python",
   "name": "python3"
  },
  "language_info": {
   "codemirror_mode": {
    "name": "ipython",
    "version": 3
   },
   "file_extension": ".py",
   "mimetype": "text/x-python",
   "name": "python",
   "nbconvert_exporter": "python",
   "pygments_lexer": "ipython3",
   "version": "3.11.13"
  }
 },
 "nbformat": 4,
 "nbformat_minor": 5
}
